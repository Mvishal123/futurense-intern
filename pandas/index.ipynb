{
 "cells": [
  {
   "cell_type": "code",
   "execution_count": 8,
   "metadata": {},
   "outputs": [],
   "source": [
    "import pandas as pd\n",
    "import numpy as np"
   ]
  },
  {
   "cell_type": "code",
   "execution_count": 6,
   "metadata": {},
   "outputs": [
    {
     "name": "stdout",
     "output_type": "stream",
     "text": [
      "a    1\n",
      "b    2\n",
      "c    3\n",
      "d    4\n",
      "e    5\n",
      "dtype: int64\n"
     ]
    }
   ],
   "source": [
    "data = [1, 2, 3, 4, 5]\n",
    "series = pd.Series(data, index=[\"a\", \"b\", \"c\", \"d\", \"e\"])\n",
    "\n",
    "print(series)"
   ]
  },
  {
   "cell_type": "code",
   "execution_count": 17,
   "metadata": {},
   "outputs": [
    {
     "name": "stdout",
     "output_type": "stream",
     "text": [
      "0    1\n",
      "1    2\n",
      "2    3\n",
      "3    4\n",
      "4    5\n",
      "Name: My Series, dtype: int64\n"
     ]
    }
   ],
   "source": [
    "data = np.array([1, 2, 3, 4, 5])\n",
    "series = pd.Series(data, name=\"My Series\")\n",
    "\n",
    "print(series)"
   ]
  },
  {
   "cell_type": "code",
   "execution_count": 21,
   "metadata": {},
   "outputs": [
    {
     "name": "stdout",
     "output_type": "stream",
     "text": [
      "vishal     {'username': 'Vishal', 'subscribed': ['ETH', '...\n",
      "vaibhav    {'username': 'Vaibhav', 'subscribed': ['ETH', ...\n",
      "Cookie        {'username': 'Cookie', 'subscribed': ['USDC']}\n",
      "dtype: object\n"
     ]
    }
   ],
   "source": [
    "store = {\n",
    "    \"vishal\": {\n",
    "        \"username\": \"Vishal\", \n",
    "        \"subscribed\": [\"ETH\", \"BTC\", \"ADA\", \"SOL\", \"USDC\"]\n",
    "    },\n",
    "    \"vaibhav\": {\n",
    "        \"username\": \"Vaibhav\", \n",
    "        \"subscribed\": [\"ETH\", \"SOL\", \"USDC\"]\n",
    "    },\n",
    "    \"Cookie\": {\n",
    "        \"username\": \"Cookie\", \n",
    "        \"subscribed\": [\"USDC\"]\n",
    "    },\n",
    "}\n",
    "\n",
    "\n",
    "store_series = pd.Series(store)\n",
    "\n",
    "print(store_series)"
   ]
  },
  {
   "cell_type": "code",
   "execution_count": 25,
   "metadata": {},
   "outputs": [
    {
     "name": "stdout",
     "output_type": "stream",
     "text": [
      "Index(['vishal', 'vaibhav', 'Cookie'], dtype='object')\n",
      "object\n",
      "(3,)\n"
     ]
    }
   ],
   "source": [
    "print(store_series.index)\n",
    "print(store_series.dtype)\n",
    "print(store_series.shape)"
   ]
  },
  {
   "cell_type": "code",
   "execution_count": 26,
   "metadata": {},
   "outputs": [
    {
     "name": "stdout",
     "output_type": "stream",
     "text": [
      "Index(['vishal', 'vaibhav', 'Cookie'], dtype='object')\n",
      "object\n",
      "(3,)\n",
      "[{'username': 'Vishal', 'subscribed': ['ETH', 'BTC', 'ADA', 'SOL', 'USDC']}\n",
      " {'username': 'Vaibhav', 'subscribed': ['ETH', 'SOL', 'USDC']}\n",
      " {'username': 'Cookie', 'subscribed': ['USDC']}]\n"
     ]
    }
   ],
   "source": [
    "print(store_series.index)\n",
    "print(store_series.dtype)\n",
    "print(store_series.shape)\n",
    "print(store_series.values)"
   ]
  },
  {
   "cell_type": "code",
   "execution_count": 42,
   "metadata": {},
   "outputs": [
    {
     "name": "stdout",
     "output_type": "stream",
     "text": [
      "vishal    {'username': 'Vishal', 'subscribed': ['ETH', '...\n",
      "dtype: object\n",
      "Cookie    {'username': 'Cookie', 'subscribed': ['USDC']}\n",
      "dtype: object\n",
      "0    1\n",
      "1    2\n",
      "2    3\n",
      "3    4\n",
      "4    5\n",
      "Name: My Series, dtype: int64\n",
      "3.0\n",
      "3.0\n",
      "0    1\n",
      "1    2\n",
      "2    3\n",
      "3    4\n",
      "4    5\n",
      "Name: My Series, dtype: int64\n",
      "1.5811388300841898\n",
      "count                                                     3\n",
      "unique                                                    3\n",
      "top       {'username': 'Vishal', 'subscribed': ['ETH', '...\n",
      "freq                                                      1\n",
      "dtype: object\n"
     ]
    }
   ],
   "source": [
    "print(store_series.head(1))\n",
    "print(store_series.tail(1))\n",
    "print(series.sort_values())\n",
    "\n",
    "# statistical measures\n",
    "print(series.mean())\n",
    "print(series.median())\n",
    "print(series.mode())\n",
    "print(series.std())\n",
    "\n",
    "print(store_series.describe())"
   ]
  },
  {
   "cell_type": "code",
   "execution_count": null,
   "metadata": {},
   "outputs": [],
   "source": []
  }
 ],
 "metadata": {
  "kernelspec": {
   "display_name": "Python 3",
   "language": "python",
   "name": "python3"
  },
  "language_info": {
   "codemirror_mode": {
    "name": "ipython",
    "version": 3
   },
   "file_extension": ".py",
   "mimetype": "text/x-python",
   "name": "python",
   "nbconvert_exporter": "python",
   "pygments_lexer": "ipython3",
   "version": "3.12.4"
  }
 },
 "nbformat": 4,
 "nbformat_minor": 2
}
